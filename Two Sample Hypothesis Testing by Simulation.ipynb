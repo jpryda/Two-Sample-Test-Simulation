{
 "cells": [
  {
   "cell_type": "markdown",
   "metadata": {},
   "source": [
    "# Two-Sample Hypothesis Testing by Simulation\n",
    "(c) 2018 by Jordan Ryda  \n",
    "__[Framework](http://allendowney.blogspot.co.uk/2016/06/there-is-still-only-one-test.html)__ inspired by Allen Downey"
   ]
  },
  {
   "cell_type": "code",
   "execution_count": 1,
   "metadata": {},
   "outputs": [],
   "source": [
    "import numpy as np\n",
    "import scipy as sp\n",
    "import seaborn as sns\n",
    "import matplotlib.pyplot as plt\n",
    "\n",
    "sns.set(color_codes=True)"
   ]
  },
  {
   "cell_type": "code",
   "execution_count": 2,
   "metadata": {},
   "outputs": [],
   "source": [
    "def test_stat(group_a, group_b):\n",
    "    return(np.mean(group_a) - np.mean(group_b))"
   ]
  },
  {
   "cell_type": "code",
   "execution_count": 3,
   "metadata": {},
   "outputs": [],
   "source": [
    "def sample_from_groups(group_a, group_b, replace=True):\n",
    "    merged_group = np.append(group_a, group_b)\n",
    "    \n",
    "    sampled_merged_group = np.random.choice(merged_group, len(merged_group), replace = replace)\n",
    "    sim_group_a = sampled_merged_group[:len(group_a)]\n",
    "    sim_group_b = sampled_merged_group[len(group_a):]\n",
    "    \n",
    "    return(sim_group_a, sim_group_b)"
   ]
  },
  {
   "cell_type": "code",
   "execution_count": 4,
   "metadata": {},
   "outputs": [],
   "source": [
    "def run_hyp_test(group_a, group_b, num_sims, replace=True, alpha=.01):\n",
    "\n",
    "    delta_dist_h0 = []\n",
    "    delta_star = test_stat(group_a, group_b)\n",
    "\n",
    "    # Run Simulations\n",
    "    for i in range(num_sims):\n",
    "        delta_sim = test_stat(*sample_from_groups(group_a, group_b, replace))\n",
    "        delta_dist_h0.append(delta_sim)\n",
    "\n",
    "    # Produce plot of delta distribution with observed delta as dashed line\n",
    "    sns.distplot(delta_dist_h0, fit=sp.stats.norm, kde=False)\n",
    "    plt.axvline(delta_star, color='b', linestyle='dashed', linewidth=2)\n",
    "\n",
    "    # Tail-independence\n",
    "    p_val = np.mean(delta_star <= delta_dist_h0) \n",
    "    p_val = p_val if p_val < .5 else np.mean(delta_star > delta_dist_h0)\n",
    "\n",
    "    print(\"p-value\", str(round(p_val*100, 3)) + '%')\n",
    "\n",
    "    # Result of test\n",
    "    if p_val < alpha:\n",
    "        print(\"Reject H0: Data are from different distributions\")\n",
    "    else:\n",
    "        print(\"Accept H0: Data are from the same distribution\")"
   ]
  },
  {
   "cell_type": "markdown",
   "metadata": {},
   "source": [
    "## Generate and Plot Groups to Test"
   ]
  },
  {
   "cell_type": "code",
   "execution_count": 7,
   "metadata": {},
   "outputs": [
    {
     "data": {
      "text/plain": [
       "<matplotlib.axes._subplots.AxesSubplot at 0x110e89400>"
      ]
     },
     "execution_count": 7,
     "metadata": {},
     "output_type": "execute_result"
    },
    {
     "data": {
      "image/png": "[encoded data removed]",
      "text/plain": [
       "<Figure size 432x288 with 1 Axes>"
      ]
     },
     "metadata": {},
     "output_type": "display_data"
    }
   ],
   "source": [
    "x1 = np.random.binomial(49, .39, 4000)\n",
    "x2 = np.random.binomial(33, .53, 1000)\n",
    "\n",
    "fig, ax = plt.subplots()\n",
    "sns.distplot(x1, bins=np.arange(x1.min(), x1.max() + 1), ax=ax, kde=False)\n",
    "sns.distplot(x2, bins=np.arange(x2.min(), x2.max() + 1), ax=ax, kde=False)"
   ]
  },
  {
   "cell_type": "markdown",
   "metadata": {},
   "source": [
    "## Run Hypothesis Test"
   ]
  },
  {
   "cell_type": "code",
   "execution_count": 8,
   "metadata": {},
   "outputs": [
    {
     "name": "stdout",
     "output_type": "stream",
     "text": [
      "p-value 0.0%\n",
      "Reject H0: Data are from different distributions\n"
     ]
    },
    {
     "data": {
      "image/png": "[encoded data removed]",
      "text/plain": [
       "<Figure size 432x288 with 1 Axes>"
      ]
     },
     "metadata": {},
     "output_type": "display_data"
    }
   ],
   "source": [
    "# Configurables\n",
    "num_sims = 5000\n",
    "replace = True  # False is permutation, True is sampling with replacement\n",
    "alpha = .01 # Significance level - we care only about order of magnitude really\n",
    "\n",
    "run_hyp_test(x1, x2, num_sims, replace, alpha)"
   ]
  },
  {
   "cell_type": "code",
   "execution_count": null,
   "metadata": {},
   "outputs": [],
   "source": []
  }
 ],
 "metadata": {
  "kernelspec": {
   "display_name": "Python 3",
   "language": "python",
   "name": "python3"
  },
  "language_info": {
   "codemirror_mode": {
    "name": "ipython",
    "version": 3
   },
   "file_extension": ".py",
   "mimetype": "text/x-python",
   "name": "python",
   "nbconvert_exporter": "python",
   "pygments_lexer": "ipython3",
   "version": "3.6.4"
  }
 },
 "nbformat": 4,
 "nbformat_minor": 2
}
